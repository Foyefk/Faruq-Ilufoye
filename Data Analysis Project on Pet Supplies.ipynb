{
 "cells": [
  {
   "cell_type": "markdown",
   "id": "c76b7ea0",
   "metadata": {},
   "source": [
    "# DATA  ANALYSIS PROJECT ON PET BOX SUPPLIES AS CASE STUDY"
   ]
  },
  {
   "cell_type": "markdown",
   "id": "d9d87b0b",
   "metadata": {},
   "source": [
    "## Background \n",
    "**PetMind** is a retailer of products for pets. They are based in the United States, PetMind sells products that are a mix of luxury items and everyday items (Luxury items include toys and Everyday items includes food).\n",
    "## Problem statement\n",
    "The company wants to increase sales by selling more everyday products repeatedly.\n",
    "They have been testing this approach for the last year.\n",
    "They now want a report on how repeat purchases impact sales.\n",
    "\n",
    "## Aims and objective\n",
    "- Perform required cleaning on the dataset\n",
    "- Use descriptive analysis to determine the relationship between repeat purchase and sales, and other variables that may influence sales."
   ]
  },
  {
   "cell_type": "markdown",
   "id": "fb0c806f",
   "metadata": {},
   "source": [
    "## Dataset description\n",
    "The dataset contains sales records in the stores last year, there are 1500 records and 8 fields which includes product_id, category, animal, size, price, sales, rating and repeat_purchase.\n"
   ]
  },
  {
   "cell_type": "markdown",
   "id": "6f2d23d1",
   "metadata": {},
   "source": [
    "#  Field description\n",
    "|**Field/Column**|**Description**|\n",
    "|:----| :-----|\n",
    "|product_id |Nominal. The unique identifier of the product.|\n",
    "|category|Nominal. The category of the product, one of 6 values (Housing,Food, Toys, Equipment, Medicine, Accessory).|\n",
    "|animal|Nominal. The type of animal the product is for. One of Dog, Cat, Fish, Bird.|\n",
    "|size|Ordinal. The size of animal the product is for. Small, Medium, Large.|\n",
    "|price|Continuous. The price the product is sold at. Can be any positive value, round to 2 decimal places.|\n",
    "|sales|Continuous. The value of all sales of the product in the last year|\n",
    "|rating|Discrete. Customer rating of the product from 1 to 10.|\n",
    "|repeat_purchase|Nominal. Whether customers repeatedly buy the product(1) or not (0)|"
   ]
  },
  {
   "cell_type": "markdown",
   "id": "32b60b9d",
   "metadata": {},
   "source": [
    "## Data Assessment"
   ]
  },
  {
   "cell_type": "code",
   "execution_count": 1,
   "id": "35ebedd4",
   "metadata": {},
   "outputs": [],
   "source": [
    "#import required libraries for analysis\n",
    "import pandas as pd\n",
    "import numpy as np\n",
    "import seaborn as sns\n",
    "import matplotlib.pyplot as plt\n",
    "%matplotlib inline"
   ]
  },
  {
   "cell_type": "code",
   "execution_count": 2,
   "id": "c662740f",
   "metadata": {
    "scrolled": true
   },
   "outputs": [
    {
     "data": {
      "text/html": [
       "<div>\n",
       "<style scoped>\n",
       "    .dataframe tbody tr th:only-of-type {\n",
       "        vertical-align: middle;\n",
       "    }\n",
       "\n",
       "    .dataframe tbody tr th {\n",
       "        vertical-align: top;\n",
       "    }\n",
       "\n",
       "    .dataframe thead th {\n",
       "        text-align: right;\n",
       "    }\n",
       "</style>\n",
       "<table border=\"1\" class=\"dataframe\">\n",
       "  <thead>\n",
       "    <tr style=\"text-align: right;\">\n",
       "      <th></th>\n",
       "      <th>product_id</th>\n",
       "      <th>category</th>\n",
       "      <th>animal</th>\n",
       "      <th>size</th>\n",
       "      <th>price</th>\n",
       "      <th>sales</th>\n",
       "      <th>rating</th>\n",
       "      <th>repeat_purchase</th>\n",
       "    </tr>\n",
       "  </thead>\n",
       "  <tbody>\n",
       "    <tr>\n",
       "      <th>104</th>\n",
       "      <td>105</td>\n",
       "      <td>Housing</td>\n",
       "      <td>Bird</td>\n",
       "      <td>medium</td>\n",
       "      <td>35.95</td>\n",
       "      <td>962.13</td>\n",
       "      <td>2.0</td>\n",
       "      <td>1</td>\n",
       "    </tr>\n",
       "    <tr>\n",
       "      <th>628</th>\n",
       "      <td>629</td>\n",
       "      <td>Housing</td>\n",
       "      <td>Fish</td>\n",
       "      <td>medium</td>\n",
       "      <td>15.99</td>\n",
       "      <td>372.62</td>\n",
       "      <td>4.0</td>\n",
       "      <td>0</td>\n",
       "    </tr>\n",
       "    <tr>\n",
       "      <th>405</th>\n",
       "      <td>406</td>\n",
       "      <td>Food</td>\n",
       "      <td>Cat</td>\n",
       "      <td>Small</td>\n",
       "      <td>unlisted</td>\n",
       "      <td>1065.98</td>\n",
       "      <td>NaN</td>\n",
       "      <td>1</td>\n",
       "    </tr>\n",
       "    <tr>\n",
       "      <th>181</th>\n",
       "      <td>182</td>\n",
       "      <td>Food</td>\n",
       "      <td>Bird</td>\n",
       "      <td>Medium</td>\n",
       "      <td>40.88</td>\n",
       "      <td>1206.88</td>\n",
       "      <td>7.0</td>\n",
       "      <td>1</td>\n",
       "    </tr>\n",
       "    <tr>\n",
       "      <th>1241</th>\n",
       "      <td>1242</td>\n",
       "      <td>Equipment</td>\n",
       "      <td>Fish</td>\n",
       "      <td>small</td>\n",
       "      <td>23.06</td>\n",
       "      <td>705.40</td>\n",
       "      <td>4.0</td>\n",
       "      <td>1</td>\n",
       "    </tr>\n",
       "  </tbody>\n",
       "</table>\n",
       "</div>"
      ],
      "text/plain": [
       "      product_id   category animal    size     price    sales  rating  \\\n",
       "104          105    Housing   Bird  medium     35.95   962.13     2.0   \n",
       "628          629    Housing   Fish  medium     15.99   372.62     4.0   \n",
       "405          406       Food    Cat   Small  unlisted  1065.98     NaN   \n",
       "181          182       Food   Bird  Medium     40.88  1206.88     7.0   \n",
       "1241        1242  Equipment   Fish   small     23.06   705.40     4.0   \n",
       "\n",
       "      repeat_purchase  \n",
       "104                 1  \n",
       "628                 0  \n",
       "405                 1  \n",
       "181                 1  \n",
       "1241                1  "
      ]
     },
     "execution_count": 2,
     "metadata": {},
     "output_type": "execute_result"
    }
   ],
   "source": [
    "#Load dataset into pandas dataframe\n",
    "df = pd.read_csv('pet_supplies_2212.csv')\n",
    "#Random display of 5 rows of the dataset>\n",
    "df.sample(5)"
   ]
  },
  {
   "cell_type": "code",
   "execution_count": 3,
   "id": "020cd62d",
   "metadata": {},
   "outputs": [
    {
     "name": "stdout",
     "output_type": "stream",
     "text": [
      "1500  Rows\n",
      "8  Columns\n"
     ]
    }
   ],
   "source": [
    "# Check shape of dataset\n",
    "shape = df.shape\n",
    "print(shape[0],\" Rows\")\n",
    "print(shape[1],\" Columns\")"
   ]
  },
  {
   "cell_type": "code",
   "execution_count": 4,
   "id": "882ceb0e",
   "metadata": {},
   "outputs": [
    {
     "data": {
      "text/plain": [
       "product_id           int64\n",
       "category            object\n",
       "animal              object\n",
       "size                object\n",
       "price               object\n",
       "sales              float64\n",
       "rating             float64\n",
       "repeat_purchase      int64\n",
       "dtype: object"
      ]
     },
     "execution_count": 4,
     "metadata": {},
     "output_type": "execute_result"
    }
   ],
   "source": [
    "# Examine datatypes of each column\n",
    "df.dtypes"
   ]
  },
  {
   "cell_type": "code",
   "execution_count": 5,
   "id": "2f11d6f3",
   "metadata": {},
   "outputs": [
    {
     "name": "stdout",
     "output_type": "stream",
     "text": [
      "<class 'pandas.core.frame.DataFrame'>\n",
      "RangeIndex: 1500 entries, 0 to 1499\n",
      "Data columns (total 8 columns):\n",
      " #   Column           Non-Null Count  Dtype  \n",
      "---  ------           --------------  -----  \n",
      " 0   product_id       1500 non-null   int64  \n",
      " 1   category         1500 non-null   object \n",
      " 2   animal           1500 non-null   object \n",
      " 3   size             1500 non-null   object \n",
      " 4   price            1500 non-null   object \n",
      " 5   sales            1500 non-null   float64\n",
      " 6   rating           1350 non-null   float64\n",
      " 7   repeat_purchase  1500 non-null   int64  \n",
      "dtypes: float64(2), int64(2), object(4)\n",
      "memory usage: 93.9+ KB\n"
     ]
    }
   ],
   "source": [
    "# Get information about the entire dataFrame\n",
    "df.info()"
   ]
  },
  {
   "cell_type": "code",
   "execution_count": 6,
   "id": "f537194f",
   "metadata": {},
   "outputs": [
    {
     "data": {
      "text/html": [
       "<div>\n",
       "<style scoped>\n",
       "    .dataframe tbody tr th:only-of-type {\n",
       "        vertical-align: middle;\n",
       "    }\n",
       "\n",
       "    .dataframe tbody tr th {\n",
       "        vertical-align: top;\n",
       "    }\n",
       "\n",
       "    .dataframe thead th {\n",
       "        text-align: right;\n",
       "    }\n",
       "</style>\n",
       "<table border=\"1\" class=\"dataframe\">\n",
       "  <thead>\n",
       "    <tr style=\"text-align: right;\">\n",
       "      <th></th>\n",
       "      <th>product_id</th>\n",
       "      <th>sales</th>\n",
       "      <th>rating</th>\n",
       "      <th>repeat_purchase</th>\n",
       "    </tr>\n",
       "  </thead>\n",
       "  <tbody>\n",
       "    <tr>\n",
       "      <th>count</th>\n",
       "      <td>1500.000000</td>\n",
       "      <td>1500.000000</td>\n",
       "      <td>1350.000000</td>\n",
       "      <td>1500.000000</td>\n",
       "    </tr>\n",
       "    <tr>\n",
       "      <th>mean</th>\n",
       "      <td>750.500000</td>\n",
       "      <td>996.597847</td>\n",
       "      <td>4.991111</td>\n",
       "      <td>0.604000</td>\n",
       "    </tr>\n",
       "    <tr>\n",
       "      <th>std</th>\n",
       "      <td>433.157015</td>\n",
       "      <td>323.952676</td>\n",
       "      <td>1.559755</td>\n",
       "      <td>0.489228</td>\n",
       "    </tr>\n",
       "    <tr>\n",
       "      <th>min</th>\n",
       "      <td>1.000000</td>\n",
       "      <td>286.940000</td>\n",
       "      <td>1.000000</td>\n",
       "      <td>0.000000</td>\n",
       "    </tr>\n",
       "    <tr>\n",
       "      <th>25%</th>\n",
       "      <td>375.750000</td>\n",
       "      <td>747.420000</td>\n",
       "      <td>4.000000</td>\n",
       "      <td>0.000000</td>\n",
       "    </tr>\n",
       "    <tr>\n",
       "      <th>50%</th>\n",
       "      <td>750.500000</td>\n",
       "      <td>1000.830000</td>\n",
       "      <td>5.000000</td>\n",
       "      <td>1.000000</td>\n",
       "    </tr>\n",
       "    <tr>\n",
       "      <th>75%</th>\n",
       "      <td>1125.250000</td>\n",
       "      <td>1158.157500</td>\n",
       "      <td>6.000000</td>\n",
       "      <td>1.000000</td>\n",
       "    </tr>\n",
       "    <tr>\n",
       "      <th>max</th>\n",
       "      <td>1500.000000</td>\n",
       "      <td>2255.960000</td>\n",
       "      <td>9.000000</td>\n",
       "      <td>1.000000</td>\n",
       "    </tr>\n",
       "  </tbody>\n",
       "</table>\n",
       "</div>"
      ],
      "text/plain": [
       "        product_id        sales       rating  repeat_purchase\n",
       "count  1500.000000  1500.000000  1350.000000      1500.000000\n",
       "mean    750.500000   996.597847     4.991111         0.604000\n",
       "std     433.157015   323.952676     1.559755         0.489228\n",
       "min       1.000000   286.940000     1.000000         0.000000\n",
       "25%     375.750000   747.420000     4.000000         0.000000\n",
       "50%     750.500000  1000.830000     5.000000         1.000000\n",
       "75%    1125.250000  1158.157500     6.000000         1.000000\n",
       "max    1500.000000  2255.960000     9.000000         1.000000"
      ]
     },
     "execution_count": 6,
     "metadata": {},
     "output_type": "execute_result"
    }
   ],
   "source": [
    "# Perform basic statistical analysis \n",
    "df.describe()"
   ]
  },
  {
   "cell_type": "code",
   "execution_count": 7,
   "id": "320e435f",
   "metadata": {},
   "outputs": [
    {
     "name": "stdout",
     "output_type": "stream",
     "text": [
      "No duplicate found!\n"
     ]
    }
   ],
   "source": [
    "# Check for duplicates in all columns\n",
    "if df.duplicated().any() == False:\n",
    "    print(\"No duplicate found!\")\n",
    "else:\n",
    "    print(df.duplicated().any())"
   ]
  },
  {
   "cell_type": "code",
   "execution_count": 8,
   "id": "dd50252b",
   "metadata": {},
   "outputs": [
    {
     "name": "stdout",
     "output_type": "stream",
     "text": [
      "Null values found in rating column\n"
     ]
    }
   ],
   "source": [
    "null_val_check = df.isnull().any()\n",
    "for i, v in null_val_check.items():\n",
    "    if v == True:\n",
    "        print(f\"Null values found in {i} column\")\n",
    " #   else:\n",
    "  #      print(f\"No null values found in {i} column\")"
   ]
  },
  {
   "cell_type": "code",
   "execution_count": 9,
   "id": "279e7d74",
   "metadata": {},
   "outputs": [
    {
     "name": "stdout",
     "output_type": "stream",
     "text": [
      "category columns contains : ['Food' 'Housing' 'Medicine' 'Toys' 'Equipment' 'Accessory' '-']\n",
      "animal columns contains : ['Bird' 'Dog' 'Cat' 'Fish']\n",
      "size columns contains : ['large' 'MEDIUM' 'medium' 'small' 'Small' 'Large' 'SMALL' 'Medium'\n",
      " 'LARGE']\n",
      "repeat_purchase columns contains : [1 0]\n"
     ]
    }
   ],
   "source": [
    "# Number of unique value of the categorical variables\n",
    "categorical_columns = df[['category','animal', 'size', 'repeat_purchase']]\n",
    "for col, val in categorical_columns.items():\n",
    "    print(f\"{col} columns contains : {val.unique()}\")"
   ]
  },
  {
   "cell_type": "markdown",
   "id": "c72ec97c",
   "metadata": {},
   "source": [
    "Assessment of the dataset reveals the following quality issues.\n",
    "- category: The category column has 1,500 rows, as expected. 6 unique categories are expected('Food', 'Housing', 'Medicine', 'Toys', 'Equipment'and 'Accessory'), but \"-\" was also found in the values which can be seen as data enry error or missing values.\n",
    "- Animal: Animal field corresponds to the mentioned unique values('Bird', 'Dog', 'Cat' and 'Fish') but in a wrong datatype.\n",
    "- size: The size column observations are not in correspondence with the table because three unique values(Small, Medium and Large) are expected but 9 were found because of letter case differences. However, there are no null values and dtype is accurate.\n",
    "- Price: The price column values doesnt match with the description given on table. The values are not consistent with expected 2 decimal place and the data type is \"object\" rather than float because of the presence of missing values which appeared as \"Unlisted\".\n",
    "- sales: sales field corressponds with the data type and number of rows described in the table. No null values found, however, the expected 2 decimal place is not consistent.\n",
    "- Rating: Rating field doesn't match the table description. There are 150 missing values in the rating field and but data type is floating point number as expected.\n"
   ]
  },
  {
   "cell_type": "markdown",
   "id": "2d698628",
   "metadata": {},
   "source": [
    "## Data Cleaning"
   ]
  },
  {
   "cell_type": "markdown",
   "id": "97e44e15",
   "metadata": {},
   "source": [
    "Category Column\n",
    "- Replace '-' with 'Unknown' category and convert to category format"
   ]
  },
  {
   "cell_type": "code",
   "execution_count": 10,
   "id": "a39e830b",
   "metadata": {},
   "outputs": [],
   "source": [
    "# Make a copy of the dataFrame\n",
    "df_copy = df.copy()"
   ]
  },
  {
   "cell_type": "code",
   "execution_count": 11,
   "id": "6e7caf0a",
   "metadata": {},
   "outputs": [
    {
     "data": {
      "text/plain": [
       "['Food', 'Housing', 'Medicine', 'Toys', 'Equipment', 'Accessory', 'Unknown']\n",
       "Categories (7, object): ['Accessory', 'Equipment', 'Food', 'Housing', 'Medicine', 'Toys', 'Unknown']"
      ]
     },
     "execution_count": 11,
     "metadata": {},
     "output_type": "execute_result"
    }
   ],
   "source": [
    "# Replace '-' with 'Unknown' category\n",
    "df['category'] = df['category'].str.replace('-','Unknown')\n",
    "# Transform to desired data format\n",
    "df['category'] = df['category'].astype('category')\n",
    "# Check effect\n",
    "df['category'].unique()"
   ]
  },
  {
   "cell_type": "markdown",
   "id": "3be74099",
   "metadata": {},
   "source": [
    "Animal Column\n",
    "- Convert data type to category"
   ]
  },
  {
   "cell_type": "code",
   "execution_count": 12,
   "id": "7db246a7",
   "metadata": {},
   "outputs": [
    {
     "data": {
      "text/plain": [
       "CategoricalDtype(categories=['Bird', 'Cat', 'Dog', 'Fish'], ordered=False)"
      ]
     },
     "execution_count": 12,
     "metadata": {},
     "output_type": "execute_result"
    }
   ],
   "source": [
    "# Transform to desired data format\n",
    "df['animal'] = df['animal'].astype('category')\n",
    "# Check effect\n",
    "df['animal'].dtype"
   ]
  },
  {
   "cell_type": "markdown",
   "id": "8a947513",
   "metadata": {},
   "source": [
    "Size column\n",
    "- Standardized the letter cases of all rows to begin with a capital letter for consistency."
   ]
  },
  {
   "cell_type": "code",
   "execution_count": 13,
   "id": "e6b7259d",
   "metadata": {},
   "outputs": [
    {
     "data": {
      "text/plain": [
       "['Large', 'Medium', 'Small']\n",
       "Categories (3, object): ['Large', 'Medium', 'Small']"
      ]
     },
     "execution_count": 13,
     "metadata": {},
     "output_type": "execute_result"
    }
   ],
   "source": [
    "# Capitalizze records in size column\n",
    "df['size'] = df['size'].str.capitalize()\n",
    "# Transform to desired data format\n",
    "df['size'] = df['size'].astype('category')\n",
    "df['size'].unique()"
   ]
  },
  {
   "cell_type": "markdown",
   "id": "8ed0d43a",
   "metadata": {},
   "source": [
    "Price column\n",
    "- Replace 'unlisted' records with overall median of price column"
   ]
  },
  {
   "cell_type": "code",
   "execution_count": 14,
   "id": "288429d7",
   "metadata": {},
   "outputs": [],
   "source": [
    "# save unlisted records as boolean in condition variable\n",
    "df['price'] = np.where(df['price'].str.contains('unlisted'), np.nan, df['price']) # Replace unlisted records with NaN\n",
    "df['price'] = df['price'].astype('float')"
   ]
  },
  {
   "cell_type": "code",
   "execution_count": 15,
   "id": "c1e64850",
   "metadata": {},
   "outputs": [],
   "source": [
    "# Calculate median price by grouping categorical varibles\n",
    "median_price = df.groupby(['category', 'size', 'animal'])['price'].median()"
   ]
  },
  {
   "cell_type": "code",
   "execution_count": 16,
   "id": "7247eafb",
   "metadata": {},
   "outputs": [],
   "source": [
    "# Fill nan values with median_price \n",
    "df['price'] = df['price'].fillna(pd.Series(df.set_index(['category', 'size', 'animal'])\\\n",
    "                                           ['price'].fillna(median_price).values))\n",
    "df['price'] = df['price'].round(decimals = 2)"
   ]
  },
  {
   "cell_type": "code",
   "execution_count": 17,
   "id": "ed35a547",
   "metadata": {},
   "outputs": [
    {
     "data": {
      "text/plain": [
       "False"
      ]
     },
     "metadata": {},
     "output_type": "display_data"
    },
    {
     "data": {
      "text/plain": [
       "dtype('float64')"
      ]
     },
     "execution_count": 17,
     "metadata": {},
     "output_type": "execute_result"
    }
   ],
   "source": [
    "# Confirmatory check\n",
    "display(df['price'].isna().any())\n",
    "df['price'].dtype\n"
   ]
  },
  {
   "cell_type": "markdown",
   "id": "0d030db0",
   "metadata": {},
   "source": [
    "Sales column\n",
    "- Convert to 2 decimal place "
   ]
  },
  {
   "cell_type": "code",
   "execution_count": 18,
   "id": "303cfc85",
   "metadata": {},
   "outputs": [],
   "source": [
    "df['sales'] = df['sales'].round(decimals = 2) #Convert to 2 decimals"
   ]
  },
  {
   "cell_type": "markdown",
   "id": "d70ef0b0",
   "metadata": {},
   "source": [
    "Rating \n",
    "- Fill missing values with 0 and conver data type to categorical"
   ]
  },
  {
   "cell_type": "code",
   "execution_count": 19,
   "id": "11691381",
   "metadata": {},
   "outputs": [],
   "source": [
    "df['rating'] = df['rating'].fillna(0).astype('category') #Fil null values with 0"
   ]
  },
  {
   "cell_type": "code",
   "execution_count": 20,
   "id": "7bc91a47",
   "metadata": {},
   "outputs": [],
   "source": [
    "# Transform data type to category\n",
    "df['repeat_purchase'] = df['repeat_purchase'].astype('category')  \n",
    "df['product_id'] = df['product_id'].astype('category')"
   ]
  },
  {
   "cell_type": "code",
   "execution_count": 21,
   "id": "aaef1bfb",
   "metadata": {},
   "outputs": [
    {
     "data": {
      "text/html": [
       "<div>\n",
       "<style scoped>\n",
       "    .dataframe tbody tr th:only-of-type {\n",
       "        vertical-align: middle;\n",
       "    }\n",
       "\n",
       "    .dataframe tbody tr th {\n",
       "        vertical-align: top;\n",
       "    }\n",
       "\n",
       "    .dataframe thead th {\n",
       "        text-align: right;\n",
       "    }\n",
       "</style>\n",
       "<table border=\"1\" class=\"dataframe\">\n",
       "  <thead>\n",
       "    <tr style=\"text-align: right;\">\n",
       "      <th></th>\n",
       "      <th>product_id</th>\n",
       "      <th>category</th>\n",
       "      <th>animal</th>\n",
       "      <th>size</th>\n",
       "      <th>price</th>\n",
       "      <th>sales</th>\n",
       "      <th>rating</th>\n",
       "      <th>repeat_purchase</th>\n",
       "    </tr>\n",
       "  </thead>\n",
       "  <tbody>\n",
       "    <tr>\n",
       "      <th>848</th>\n",
       "      <td>849</td>\n",
       "      <td>Accessory</td>\n",
       "      <td>Fish</td>\n",
       "      <td>Large</td>\n",
       "      <td>22.88</td>\n",
       "      <td>671.44</td>\n",
       "      <td>2.0</td>\n",
       "      <td>1</td>\n",
       "    </tr>\n",
       "    <tr>\n",
       "      <th>954</th>\n",
       "      <td>955</td>\n",
       "      <td>Medicine</td>\n",
       "      <td>Fish</td>\n",
       "      <td>Small</td>\n",
       "      <td>20.26</td>\n",
       "      <td>674.35</td>\n",
       "      <td>6.0</td>\n",
       "      <td>0</td>\n",
       "    </tr>\n",
       "    <tr>\n",
       "      <th>1315</th>\n",
       "      <td>1316</td>\n",
       "      <td>Medicine</td>\n",
       "      <td>Cat</td>\n",
       "      <td>Medium</td>\n",
       "      <td>20.04</td>\n",
       "      <td>743.94</td>\n",
       "      <td>6.0</td>\n",
       "      <td>0</td>\n",
       "    </tr>\n",
       "    <tr>\n",
       "      <th>752</th>\n",
       "      <td>753</td>\n",
       "      <td>Toys</td>\n",
       "      <td>Fish</td>\n",
       "      <td>Medium</td>\n",
       "      <td>24.06</td>\n",
       "      <td>747.21</td>\n",
       "      <td>7.0</td>\n",
       "      <td>1</td>\n",
       "    </tr>\n",
       "    <tr>\n",
       "      <th>626</th>\n",
       "      <td>627</td>\n",
       "      <td>Toys</td>\n",
       "      <td>Fish</td>\n",
       "      <td>Small</td>\n",
       "      <td>29.01</td>\n",
       "      <td>965.99</td>\n",
       "      <td>0.0</td>\n",
       "      <td>0</td>\n",
       "    </tr>\n",
       "  </tbody>\n",
       "</table>\n",
       "</div>"
      ],
      "text/plain": [
       "     product_id   category animal    size  price   sales rating  \\\n",
       "848         849  Accessory   Fish   Large  22.88  671.44    2.0   \n",
       "954         955   Medicine   Fish   Small  20.26  674.35    6.0   \n",
       "1315       1316   Medicine    Cat  Medium  20.04  743.94    6.0   \n",
       "752         753       Toys   Fish  Medium  24.06  747.21    7.0   \n",
       "626         627       Toys   Fish   Small  29.01  965.99    0.0   \n",
       "\n",
       "     repeat_purchase  \n",
       "848                1  \n",
       "954                0  \n",
       "1315               0  \n",
       "752                1  \n",
       "626                0  "
      ]
     },
     "execution_count": 21,
     "metadata": {},
     "output_type": "execute_result"
    }
   ],
   "source": [
    "df.sample(5)"
   ]
  },
  {
   "cell_type": "markdown",
   "id": "333811c3",
   "metadata": {},
   "source": [
    "## Exploratory data Analysis"
   ]
  },
  {
   "cell_type": "code",
   "execution_count": 22,
   "id": "536df5a1",
   "metadata": {
    "scrolled": false
   },
   "outputs": [
    {
     "data": {
      "image/png": "[encoded data removed]",
      "text/plain": [
       "<Figure size 640x480 with 1 Axes>"
      ]
     },
     "metadata": {},
     "output_type": "display_data"
    }
   ],
   "source": [
    "# Plot number of product sales by category\n",
    "sns.set_style('white')\n",
    "prod_count = df.groupby('category')['product_id'].count().sort_values(ascending = True)\n",
    "ax = prod_count.plot(kind = 'barh', color = ['#0388f7' if(x == max(prod_count.values))else '#2a9df4' for x in prod_count.values])\n",
    "sns.despine(left=True, bottom=True)\n",
    "ax.bar_label(ax.containers[0], label_type='edge')\n",
    "ax.set_ylabel('')\n",
    "ax.set_title(\"Number of Product Sold by Category\")\n",
    "ax.margins(y= 0.1)"
   ]
  },
  {
   "cell_type": "code",
   "execution_count": 23,
   "id": "fca3116a",
   "metadata": {},
   "outputs": [
    {
     "data": {
      "image/png": "[encoded data removed]",
      "text/plain": [
       "<Figure size 640x480 with 1 Axes>"
      ]
     },
     "metadata": {},
     "output_type": "display_data"
    }
   ],
   "source": [
    "# Plot sales value by category\n",
    "sales_group = df.groupby('category')['sales'].sum().sort_values(ascending = True)\n",
    "color = ['#0388f7' if (x == max(sales_group.values)) else '#2a9df4' for x in sales_group.values]\n",
    "ax2 = sales_group.plot(kind = 'barh', color = color)\n",
    "sns.despine(left=True, bottom=True)\n",
    "ax2.bar_label(ax2.containers[0], label_type='edge')\n",
    "ax2.set_ylabel('')\n",
    "ax2.set_title(\"Total Sales Value of Products Sold Accross Category\")\n",
    "ax2.margins(y= 0.1)"
   ]
  },
  {
   "cell_type": "code",
   "execution_count": 24,
   "id": "8bea8194",
   "metadata": {
    "scrolled": true
   },
   "outputs": [
    {
     "data": {
      "text/plain": [
       "category\n",
       "Unknown       28316.27\n",
       "Accessory    121273.44\n",
       "Housing      175330.31\n",
       "Medicine     214066.25\n",
       "Food         287138.16\n",
       "Toys         319897.10\n",
       "Equipment    348875.24\n",
       "Name: sales, dtype: float64"
      ]
     },
     "execution_count": 24,
     "metadata": {},
     "output_type": "execute_result"
    }
   ],
   "source": [
    "sales_group"
   ]
  },
  {
   "cell_type": "code",
   "execution_count": 25,
   "id": "38996168",
   "metadata": {
    "scrolled": true
   },
   "outputs": [
    {
     "data": {
      "text/plain": [
       "1    0.604\n",
       "0    0.396\n",
       "Name: repeat_purchase, dtype: float64"
      ]
     },
     "execution_count": 25,
     "metadata": {},
     "output_type": "execute_result"
    }
   ],
   "source": [
    "# Proportion of product sales\n",
    "df['repeat_purchase'].value_counts(normalize = True)"
   ]
  },
  {
   "cell_type": "code",
   "execution_count": 26,
   "id": "59555b5f",
   "metadata": {},
   "outputs": [
    {
     "data": {
      "image/png": "[encoded data removed]",
      "text/plain": [
       "<Figure size 640x480 with 1 Axes>"
      ]
     },
     "metadata": {},
     "output_type": "display_data"
    }
   ],
   "source": [
    "# plot number of products by repeat purchases variable\n",
    "palette = ['#add9fe','#034bf7']\n",
    "ax3 = sns.countplot(data = df, x ='repeat_purchase' , palette = palette)\n",
    "sns.despine(left = True, bottom = True)\n",
    "ax3.bar_label(ax3.containers[0])\n",
    "ax3.set_yticks(ticks = [])\n",
    "ax3.set_ylabel('')\n",
    "ax3.set_xlabel('repeat_purchase', fontsize = 12)\n",
    "ax3.set_title('Count of Products by Repeat Purchases', fontsize = 18)\n",
    "ax2.margins(y= 0.1)"
   ]
  },
  {
   "cell_type": "markdown",
   "id": "943b4801",
   "metadata": {},
   "source": [
    " - As seen in the above countplot, about 60% of the products are repeat purchases"
   ]
  },
  {
   "cell_type": "code",
   "execution_count": 27,
   "id": "005152ff",
   "metadata": {},
   "outputs": [
    {
     "data": {
      "image/png": "[encoded data removed]",
      "text/plain": [
       "<Figure size 640x480 with 1 Axes>"
      ]
     },
     "metadata": {},
     "output_type": "display_data"
    }
   ],
   "source": [
    "# plot a bar chart to determine number of observations by category and repea_purchase  ---> make this stacked\n",
    "ax4 = sns.countplot(data = df, x = 'category', hue = 'repeat_purchase', palette = palette)\n",
    "sns.despine(left = True)\n",
    "ax4.set_title ('Count of Proucts Accross Categories by Repeat purchases ', fontsize = 15)\n",
    "ax4.set_xlabel('Product Category',fontsize = 12)\n",
    "ax4.set_ylabel('')\n",
    "ax4.margins(y= 0.1)\n"
   ]
  },
  {
   "cell_type": "markdown",
   "id": "b6400262",
   "metadata": {},
   "source": [
    "- The above barchart still maintains that accross the category variable, number of repeat purchase products is higher than products with no repeat purchases. In addition, The equipment category have 370 number of recorded sales, which is the highest when compared with other categories."
   ]
  },
  {
   "cell_type": "code",
   "execution_count": 28,
   "id": "7e67d3c0",
   "metadata": {
    "scrolled": false
   },
   "outputs": [
    {
     "data": {
      "image/png": "[encoded data removed]",
      "text/plain": [
       "<Figure size 640x480 with 1 Axes>"
      ]
     },
     "metadata": {},
     "output_type": "display_data"
    }
   ],
   "source": [
    "# plot sales value by repeat purchase variable\n",
    "sales_value_group= df.groupby('repeat_purchase').agg(sum_of_sales=('sales',sum))\n",
    "ax5 = sns.barplot(data = sales_value_group, x= sales_value_group.index, y = 'sum_of_sales', palette = ['#add9fe','#034bf7'])\n",
    "ax5.bar_label(ax5.containers[0])\n",
    "ax5.set_title('Total Sum of Sales Value(USD) Repeat Purchase ',fontsize = 15)\n",
    "ax5.set(ylabel = '',  yticks = [])\n",
    "ax5.set_xlabel('Repeat Purchase',fontsize= 12)\n",
    "ax4.margins(y= 0.1)\n",
    "sns.despine(left = True, bottom = True)"
   ]
  },
  {
   "cell_type": "markdown",
   "id": "5bdb1f2f",
   "metadata": {},
   "source": [
    "- The result of plotting the sum of sales by repeat purchase confirms that products with repeated purchases have higher sales value than sale sum of products wih no repeat purchase. This is expected as we have more number of products in the repeated purchased category."
   ]
  },
  {
   "cell_type": "code",
   "execution_count": 29,
   "id": "f4a0191d",
   "metadata": {},
   "outputs": [
    {
     "data": {
      "image/png": "[encoded data removed]",
      "text/plain": [
       "<Figure size 640x480 with 1 Axes>"
      ]
     },
     "metadata": {},
     "output_type": "display_data"
    }
   ],
   "source": [
    "# Aggregate products by item type\n",
    "ax6 = sns.histplot(data = df , x = 'sales', color ='#034bf7' )\n",
    "ax6.set_title('Distribution of Sales Value(USD)', fontsize = 15)\n",
    "ax6.set_ylabel('')\n",
    "ax6.set_xlabel('Sales value (USD)', fontsize = 12)\n",
    "sns.despine(left = True)"
   ]
  },
  {
   "cell_type": "markdown",
   "id": "378d8a07",
   "metadata": {},
   "source": [
    "The sales value of pet products are distributed over a range of approximately 300-2,400, with a spread of 2,100. The center of the distribution is around 1,000. There are gaps and dips observed between 1,200-1,250 and 1,500-1,800, with an outlier seen between 2,100-2,400. The distribution of product sales is somewhat multimodal, with a major peak between 1,000-1,200. It is also evident that the sales data is slightly skewed towards the right, making the distribution asymmetric. Outliers can also be observed at 2250 sales value."
   ]
  },
  {
   "cell_type": "code",
   "execution_count": 30,
   "id": "6bcb2734",
   "metadata": {},
   "outputs": [
    {
     "data": {
      "image/png": "[encoded data removed]",
      "text/plain": [
       "<Figure size 640x480 with 1 Axes>"
      ]
     },
     "metadata": {},
     "output_type": "display_data"
    }
   ],
   "source": [
    "# Relationship between repeat purchases and sales\n",
    "sns.boxplot(data = df, x = 'repeat_purchase', y = 'sales', palette =palette)\n",
    "sns.despine(left = True, bottom = True)\n",
    "plt.title('Relationship Between Repeat purchases and Sales(USD)', fontsize = 15)\n",
    "plt.xlabel('Repeat Purchases', fontsize = 12)\n",
    "plt.ylabel('')\n",
    "plt.margins(0.1)"
   ]
  },
  {
   "cell_type": "markdown",
   "id": "e3a27972",
   "metadata": {},
   "source": [
    "The above boxplot distribution of sales by repeat purchase variable indicates that products without repeated purchase have a higher interquartile range compared to products with repeated purchases. They also have higher 75th and 25th percentile sales values than products with repeated purchase. An outlier can also be found in both types of products with a sales value of about 2250. The median of the products without repeated purchase is also higher than the median of the products with repeated purchase."
   ]
  },
  {
   "cell_type": "code",
   "execution_count": 31,
   "id": "b1abc22f",
   "metadata": {
    "scrolled": false
   },
   "outputs": [
    {
     "data": {
      "image/png": "[encoded data removed]",
      "text/plain": [
       "<Figure size 640x480 with 1 Axes>"
      ]
     },
     "metadata": {},
     "output_type": "display_data"
    }
   ],
   "source": [
    "# Plot price distribution \n",
    "sns.boxplot(data = df, y ='price', x = 'repeat_purchase', palette =palette)\n",
    "plt.title('Relationship Between Repeat purchases and Price(USD)', fontsize = 15)\n",
    "plt.xlabel('Repeat Purchases', fontsize = 12)\n",
    "plt.ylabel('')\n",
    "sns.despine(left = True, bottom = True)\n",
    "plt.margins(0.1)"
   ]
  },
  {
   "cell_type": "code",
   "execution_count": 32,
   "id": "2179491f",
   "metadata": {},
   "outputs": [
    {
     "data": {
      "text/html": [
       "<div>\n",
       "<style scoped>\n",
       "    .dataframe tbody tr th:only-of-type {\n",
       "        vertical-align: middle;\n",
       "    }\n",
       "\n",
       "    .dataframe tbody tr th {\n",
       "        vertical-align: top;\n",
       "    }\n",
       "\n",
       "    .dataframe thead th {\n",
       "        text-align: right;\n",
       "    }\n",
       "</style>\n",
       "<table border=\"1\" class=\"dataframe\">\n",
       "  <thead>\n",
       "    <tr style=\"text-align: right;\">\n",
       "      <th></th>\n",
       "      <th>price</th>\n",
       "      <th>sales</th>\n",
       "    </tr>\n",
       "  </thead>\n",
       "  <tbody>\n",
       "    <tr>\n",
       "      <th>price</th>\n",
       "      <td>1.000000</td>\n",
       "      <td>0.928826</td>\n",
       "    </tr>\n",
       "    <tr>\n",
       "      <th>sales</th>\n",
       "      <td>0.928826</td>\n",
       "      <td>1.000000</td>\n",
       "    </tr>\n",
       "  </tbody>\n",
       "</table>\n",
       "</div>"
      ],
      "text/plain": [
       "          price     sales\n",
       "price  1.000000  0.928826\n",
       "sales  0.928826  1.000000"
      ]
     },
     "execution_count": 32,
     "metadata": {},
     "output_type": "execute_result"
    }
   ],
   "source": [
    "# Determine correlation coefficient between price and sales\n",
    "df.corr()"
   ]
  },
  {
   "cell_type": "markdown",
   "id": "7d493adb",
   "metadata": {},
   "source": [
    "- Price and sales value of products have a strong positive relationship; the higher the price of products, the higher the sales value."
   ]
  },
  {
   "cell_type": "markdown",
   "id": "864aa44c",
   "metadata": {},
   "source": [
    "## Conclusion and Recommendation"
   ]
  },
  {
   "cell_type": "markdown",
   "id": "c7661ce5",
   "metadata": {},
   "source": [
    "From the analysis, about 60% of the products sales recorded by PetMind in the previous year are products that customers purchase repeatedly. Accross all categories, repeated purchase of products have a higher sales value than products with no repeated purchase. However, the distrubution of sales accross repeated purchase variable shows that repeat purchase of products does not necessarily increase the product sales value but increases nuumber of sales record. Therefore, it cannot be considered as an effective method to increase sales value of the everyday products. \n",
    "Further analysis to check the distribution of product prices and it's relationship with sales value clearly indicates that averagely,  products with no repeated purchase have a higher price and ultimately, higher sales value.\n",
    "It can therefore be concluded that the price of products determines their sales value and repeated purchase of products will increase number of sales. Further analysis should be conducted to determine parameters that encourages repeated purchase of products. This might lead to generating insights and identifying if there exists issues with products that are not repeatedly purchased."
   ]
  },
  {
   "cell_type": "markdown",
   "id": "f5bcfe6b",
   "metadata": {},
   "source": [
    "                                                                                   Data source: Datacamp practical exercise\n",
    "                                                                                   Faruq Ilufoye"
   ]
  }
 ],
 "metadata": {
  "kernelspec": {
   "display_name": "Python 3 (ipykernel)",
   "language": "python",
   "name": "python3"
  },
  "language_info": {
   "codemirror_mode": {
    "name": "ipython",
    "version": 3
   },
   "file_extension": ".py",
   "mimetype": "text/x-python",
   "name": "python",
   "nbconvert_exporter": "python",
   "pygments_lexer": "ipython3",
   "version": "3.9.13"
  }
 },
 "nbformat": 4,
 "nbformat_minor": 5
}
